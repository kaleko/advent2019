{
 "cells": [
  {
   "cell_type": "code",
   "execution_count": 1,
   "metadata": {},
   "outputs": [],
   "source": [
    "import numpy as np"
   ]
  },
  {
   "cell_type": "markdown",
   "metadata": {},
   "source": [
    "## The issue with this challenge is that limiting to 6 digits makes it too easily brute-forceable. This code is inefficient and inelegint... but still runs in a few seconds. A true job interview question would have many more digits and require more thought to solve."
   ]
  },
  {
   "cell_type": "code",
   "execution_count": 2,
   "metadata": {},
   "outputs": [],
   "source": [
    "def does_obey_rules(mynum, mymin = 0, mymax = 999999):\n",
    "    \n",
    "    if mynum < mymin or mynum > mymax: return False\n",
    "    \n",
    "    # Break integer into string of integers (single digits)\n",
    "    num_list = [int(d) for d in str(mynum)]\n",
    "    \n",
    "    # check for doubles\n",
    "    doubles = False\n",
    "\n",
    "    for i in range(len(num_list)-1):\n",
    "        if num_list[i+1] == num_list[i]: \n",
    "            doubles = True\n",
    "            break\n",
    "            \n",
    "    if not doubles: return False        \n",
    "    \n",
    "    # check for decreasing\n",
    "    decreases = False\n",
    "    for i in range(len(num_list)-1):\n",
    "        if num_list[i+1] < num_list[i]: \n",
    "            decreases = True\n",
    "            break\n",
    "    \n",
    "    if decreases: return False\n",
    "    \n",
    "    return True"
   ]
  },
  {
   "cell_type": "code",
   "execution_count": 3,
   "metadata": {},
   "outputs": [],
   "source": [
    "#Your puzzle input is 382345-843167.\n",
    "valid_counter = 0\n",
    "for x in list(range(328245,843168)):\n",
    "    if does_obey_rules(x,382345,843167): valid_counter += 1"
   ]
  },
  {
   "cell_type": "code",
   "execution_count": 4,
   "metadata": {},
   "outputs": [
    {
     "data": {
      "text/plain": [
       "460"
      ]
     },
     "execution_count": 4,
     "metadata": {},
     "output_type": "execute_result"
    }
   ],
   "source": [
    "valid_counter"
   ]
  },
  {
   "cell_type": "code",
   "execution_count": 5,
   "metadata": {},
   "outputs": [],
   "source": [
    "def does_obey_rules_part2(mynum, mymin = 0, mymax = 999999):\n",
    "    \n",
    "    if mynum < mymin or mynum > mymax: return False\n",
    "    \n",
    "    # Break integer into string of integers (single digits)\n",
    "    num_list = [int(d) for d in str(mynum)]\n",
    "    \n",
    "    # check for doubles\n",
    "    unique_digits = np.unique(num_list)\n",
    "    n_each_digit = [0]*10\n",
    "    for x in range(10):\n",
    "        for num in num_list:\n",
    "            if num == x: n_each_digit[x] += 1\n",
    "    if 2 not in n_each_digit: return False\n",
    "    \n",
    "    # check for decreasing\n",
    "    decreases = False\n",
    "    for i in range(len(num_list)-1):\n",
    "        if num_list[i+1] < num_list[i]: \n",
    "            decreases = True\n",
    "            break\n",
    "    \n",
    "    if decreases: return False\n",
    "    \n",
    "    return True\n",
    "\n",
    "    print(n_each_digit)"
   ]
  },
  {
   "cell_type": "code",
   "execution_count": 6,
   "metadata": {},
   "outputs": [],
   "source": [
    "#Your puzzle input is still 382345-843167.\n",
    "valid_counter = 0\n",
    "for x in list(range(328245,843168)):\n",
    "    if does_obey_rules_part2(x,382345,843167): valid_counter += 1"
   ]
  },
  {
   "cell_type": "code",
   "execution_count": 7,
   "metadata": {},
   "outputs": [
    {
     "data": {
      "text/plain": [
       "290"
      ]
     },
     "execution_count": 7,
     "metadata": {},
     "output_type": "execute_result"
    }
   ],
   "source": [
    "valid_counter"
   ]
  }
 ],
 "metadata": {
  "kernelspec": {
   "display_name": "Python 3",
   "language": "python",
   "name": "python3"
  },
  "language_info": {
   "codemirror_mode": {
    "name": "ipython",
    "version": 3
   },
   "file_extension": ".py",
   "mimetype": "text/x-python",
   "name": "python",
   "nbconvert_exporter": "python",
   "pygments_lexer": "ipython3",
   "version": "3.7.3"
  }
 },
 "nbformat": 4,
 "nbformat_minor": 2
}
